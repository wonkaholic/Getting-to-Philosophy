{
 "cells": [
  {
   "cell_type": "code",
   "execution_count": null,
   "metadata": {},
   "outputs": [],
   "source": [
    "from lxml import html\n",
    "import requests\n",
    "import re\n",
    "\n",
    "current_page = input()\n",
    "while(current_page.lower() != \"quit\"):\n",
    "    visited = set()\n",
    "\n",
    "    while((current_page != \"Philosophy\" and current_page != None) and current_page not in visited):\n",
    "        visited.add(current_page)\n",
    "        page = requests.get(\"https://en.wikipedia.org/wiki/\" + current_page)\n",
    "\n",
    "        if not page.ok:\n",
    "            print(\"Invalid URL\")\n",
    "            break\n",
    "\n",
    "        page_text = re.sub(r\"\\([^\\)]*\\<[^\\>]*\\>[^\\)]*\\)\", \"\", page.text)\n",
    "        tree = html.fromstring(page_text)\n",
    "        raw_links = tree.xpath(\"//p/a[@href]\")\n",
    "        links = [x.get(\"href\")[6:] for x in raw_links]\n",
    "        current_page = links[0] if len(links) > 0 else None\n",
    "        print(current_page)\n",
    "\n",
    "    current_page = input(\"\\n\")\n"
   ]
  },
  {
   "cell_type": "code",
   "execution_count": null,
   "metadata": {},
   "outputs": [],
   "source": []
  }
 ],
 "metadata": {
  "kernelspec": {
   "display_name": "Python 3",
   "language": "python",
   "name": "python3"
  },
  "language_info": {
   "codemirror_mode": {
    "name": "ipython",
    "version": 3
   },
   "file_extension": ".py",
   "mimetype": "text/x-python",
   "name": "python",
   "nbconvert_exporter": "python",
   "pygments_lexer": "ipython3",
   "version": "3.6.4"
  }
 },
 "nbformat": 4,
 "nbformat_minor": 2
}
